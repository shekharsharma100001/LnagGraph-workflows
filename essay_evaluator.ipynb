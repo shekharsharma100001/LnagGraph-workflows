{
 "cells": [
  {
   "cell_type": "code",
   "execution_count": 15,
   "id": "5596bcb6",
   "metadata": {},
   "outputs": [],
   "source": [
    "from langgraph.graph import StateGraph, START, END \n",
    "from langchain_huggingface import HuggingFaceEndpoint, ChatHuggingFace\n",
    "from typing import TypedDict, Annotated\n",
    "import os\n",
    "from dotenv import load_dotenv \n",
    "from pydantic import BaseModel, Field\n",
    "import operator\n"
   ]
  },
  {
   "cell_type": "code",
   "execution_count": 16,
   "id": "af8b617b",
   "metadata": {},
   "outputs": [
    {
     "data": {
      "text/plain": [
       "True"
      ]
     },
     "execution_count": 16,
     "metadata": {},
     "output_type": "execute_result"
    }
   ],
   "source": [
    "load_dotenv(dotenv_path= r'C:\\Users\\shekh\\OneDrive\\Desktop\\LangGraph_tut\\myenv\\.env')"
   ]
  },
  {
   "cell_type": "code",
   "execution_count": 17,
   "id": "dfee0049",
   "metadata": {},
   "outputs": [],
   "source": [
    "HF_TOKEN = os.getenv(\"HUGGINGFACEHUB_API_TOKEN\")\n"
   ]
  },
  {
   "cell_type": "code",
   "execution_count": 18,
   "id": "e73e6b86",
   "metadata": {},
   "outputs": [],
   "source": [
    "llm = HuggingFaceEndpoint(\n",
    "    repo_id= 'meta-llama/Llama-3.1-8B-Instruct',\n",
    "    task='text-generation',\n",
    "    huggingfacehub_api_token= HF_TOKEN\n",
    ")\n",
    "\n",
    "model = ChatHuggingFace(llm = llm)      "
   ]
  },
  {
   "cell_type": "code",
   "execution_count": 19,
   "id": "7f437fa5",
   "metadata": {},
   "outputs": [],
   "source": [
    "class EvaluationSchema(BaseModel):\n",
    "    score: int = Field(..., description=\"Score out of 10\", ge=0, le=10)\n",
    "    feedback: str = Field(..., description=\"Constructive feedback on the essay\")\n",
    "\n",
    "structured_model = model.with_structured_output(EvaluationSchema, method=\"json_schema\")\n"
   ]
  },
  {
   "cell_type": "code",
   "execution_count": 20,
   "id": "2c035a01",
   "metadata": {},
   "outputs": [],
   "source": [
    "with open('AI_Impact_on_Young_Generation.txt', 'r') as file:\n",
    "    essay = file.read()"
   ]
  },
  {
   "cell_type": "code",
   "execution_count": 21,
   "id": "7e2ca9be",
   "metadata": {},
   "outputs": [],
   "source": [
    "class UPSC_States(TypedDict):\n",
    "    essay: str\n",
    "    language_feedback: str\n",
    "    clarity_feedback: str\n",
    "    analysis_feedback: str\n",
    "    indidual_score: Annotated[list[int], operator.add]\n",
    "    avg_score: float\n",
    "    overall_feedback: str"
   ]
  },
  {
   "cell_type": "code",
   "execution_count": 30,
   "id": "afa52ef4",
   "metadata": {},
   "outputs": [],
   "source": [
    "def evaluate_language(state: UPSC_States) -> UPSC_States:\n",
    "    prompt = f\"\"\"Please evaluate the language quality of following essay and provide a score out of 10 along with constructive feedback:\\n\\n{state['essay']}\"\"\"\n",
    "    result = structured_model.invoke(prompt)\n",
    "    feedback = result[\"feedback\"]   # dict access\n",
    "    score = result[\"score\"]\n",
    "    return {\n",
    "        'language_feedback': feedback,\n",
    "        'individual_score': [score]  # also fixed spelling!\n",
    "    }\n"
   ]
  },
  {
   "cell_type": "code",
   "execution_count": 31,
   "id": "45077360",
   "metadata": {},
   "outputs": [],
   "source": [
    "def evaluate_analysis(state: UPSC_States) -> UPSC_States:\n",
    "    prompt = f\"\"\"Please evaluate the depth of analysis of following essay and provide a score out of 10 along with constructive feedback:\\n\\n{state['essay']}\"\"\"\n",
    "    result = structured_model.invoke(prompt)\n",
    "    feedback = result[\"feedback\"]   # dict access\n",
    "    score = result[\"score\"]\n",
    "    return {'analysis_feedback': feedback, 'individual_score': [score]}"
   ]
  },
  {
   "cell_type": "code",
   "execution_count": 37,
   "id": "6f2e06ea",
   "metadata": {},
   "outputs": [],
   "source": [
    "def evaluate_clarity(state: UPSC_States) -> UPSC_States:\n",
    "    prompt = f\"\"\"Please evaluate the clarity of thought of following essay and provide a score out of 10 along with constructive feedback:\\n\\n{state['essay']}\"\"\"\n",
    "    result = structured_model.invoke(prompt)\n",
    "    feedback = result[\"feedback\"]   # dict access\n",
    "    score = result[\"score\"]\n",
    "    return {'clarity_feedback': feedback, 'indidual_score': [score]}"
   ]
  },
  {
   "cell_type": "code",
   "execution_count": 38,
   "id": "3b19f543",
   "metadata": {},
   "outputs": [],
   "source": [
    "def final_evaluation(state: UPSC_States) -> UPSC_States:\n",
    "    prompt = f\"\"\"based on the following feedbacks, provide an overall evaluation of the essay along with an average score out of 10:\\n\\nLanguage Feedback: {state['language_feedback']}\\n\\nAnalysis Feedback: {state['analysis_feedback']}\\n\\nClarity Feedback: {state['clarity_feedback']}\"\"\"\n",
    "    overall_feedback = model.invoke(prompt)\n",
    "    \n",
    "    # Calculate average score\n",
    "    avg_score = sum(state['indidual_score']) / len(state['indidual_score'])\n",
    "    return {'overall_feedback': overall_feedback, 'avg_score': avg_score}"
   ]
  },
  {
   "cell_type": "code",
   "execution_count": 39,
   "id": "352f84dc",
   "metadata": {},
   "outputs": [],
   "source": [
    "graph = StateGraph(UPSC_States)\n",
    "graph.add_node('evaluate_language', evaluate_language)\n",
    "graph.add_node('evaluate_analysis', evaluate_analysis)\n",
    "graph.add_node('evaluate_clarity', evaluate_clarity)\n",
    "graph.add_node('final_evaluation', final_evaluation)\n",
    "\n",
    "graph.add_edge(START, 'evaluate_language')\n",
    "graph.add_edge(START, 'evaluate_analysis')\n",
    "graph.add_edge(START, 'evaluate_clarity')\n",
    "graph.add_edge('evaluate_language', 'final_evaluation')\n",
    "graph.add_edge('evaluate_analysis', 'final_evaluation')\n",
    "graph.add_edge('evaluate_clarity', 'final_evaluation')\n",
    "graph.add_edge('final_evaluation', END)\n",
    "\n",
    "# compile the graph\n",
    "workflow = graph.compile()\n",
    "\n"
   ]
  },
  {
   "cell_type": "code",
   "execution_count": 40,
   "id": "5ef57fd7",
   "metadata": {},
   "outputs": [
    {
     "data": {
      "image/png": "[encoded data removed]",
      "text/plain": [
       "<langgraph.graph.state.CompiledStateGraph object at 0x0000023F31409810>"
      ]
     },
     "execution_count": 40,
     "metadata": {},
     "output_type": "execute_result"
    }
   ],
   "source": [
    "workflow"
   ]
  },
  {
   "cell_type": "code",
   "execution_count": 41,
   "id": "38e6b270",
   "metadata": {},
   "outputs": [],
   "source": [
    "initial_state = {'essay': essay}\n",
    "result = workflow.invoke(initial_state)"
   ]
  },
  {
   "cell_type": "code",
   "execution_count": 42,
   "id": "920e8513",
   "metadata": {},
   "outputs": [
    {
     "data": {
      "text/plain": [
       "{'essay': 'Impacts of Artificial Intelligence on Young Generation\\n\\nArtificial Intelligence (AI) has become one of the most influential\\ntechnologies of the 21st century, reshaping industries, societies, and\\nindividual lifestyles. Among the groups most affected by AI is the young\\ngeneration, who are both the primary users and future innovators of this\\ntechnology. While AI offers immense benefits, it also presents notable\\nchallenges that shape the lives, skills, and opportunities of young\\npeople.\\n\\nOne of the most positive impacts of AI on the young generation is the\\nenhancement of education. Intelligent tutoring systems, adaptive\\nlearning platforms, and AI-driven content personalization make education\\nmore engaging and tailored to individual learning styles. Students can\\naccess resources beyond traditional classrooms, breaking geographical\\nbarriers and ensuring inclusivity. This fosters a more self-paced and\\neffective learning environment.\\n\\nAI has also revolutionized career opportunities for young individuals.\\nWith the rapid growth of AI-driven industries, there is an increasing\\ndemand for professionals skilled in data science, machine learning,\\nrobotics, and software engineering. This motivates young people to\\nacquire technical skills early in their academic journey. Moreover,\\nAI-driven career guidance tools help students explore suitable paths,\\naligning their talents with industry needs.\\n\\nOn the social front, AI-powered applications like social media\\nplatforms, virtual assistants, and content recommendation systems\\ninfluence how the young generation interacts with the world. While these\\ntools provide convenience and connectivity, they also pose risks such as\\nreduced attention spans, addiction, and exposure to misinformation. This\\ndual nature of AI highlights the need for responsible use and digital\\nliteracy among young individuals.\\n\\nAdditionally, AI has significant psychological implications. Exposure to\\nAI-driven algorithms that prioritize engagement over well-being can\\nimpact self-esteem and mental health. Young people may experience\\nincreased pressure from curated online content, leading to unrealistic\\ncomparisons and social anxiety. At the same time, AI in mental health\\napps and counseling platforms provides valuable support to those in\\nneed.\\n\\nAnother critical aspect is the ethical dimension. The young generation\\nis growing up in an age where AI systems influence decision-making in\\nareas like education, employment, and criminal justice. Understanding\\nthe ethical use of AI, including bias, transparency, and fairness,\\nbecomes crucial for empowering future leaders to design responsible\\ntechnologies.\\n\\nIn conclusion, Artificial Intelligence profoundly impacts the young\\ngeneration, shaping how they learn, work, communicate, and perceive the\\nworld. While it provides vast opportunities for innovation, growth, and\\nknowledge, it also brings challenges that require awareness,\\nresponsibility, and guidance. Preparing the youth to navigate AI-driven\\nsocieties is essential to ensure they harness its benefits while\\nmitigating its risks. Ultimately, the future of AI will be determined by\\nhow wisely the young generation chooses to use it.\\n',\n",
       " 'language_feedback': 'Overall, the essay is well-structured and covers a wide range of impacts of AI on the young generation. However, there are some areas for improvement to reach a perfect score.',\n",
       " 'clarity_feedback': 'Overall, the essay is well-structured and provides a comprehensive analysis of the impacts of Artificial Intelligence on the young generation. However, there are some areas for improvement to enhance clarity and coherence.',\n",
       " 'analysis_feedback': \"The essay provides a solid overview of the impacts of Artificial Intelligence on the young generation, but could benefit from deeper analysis and more nuanced arguments. Here are some suggestions for improvement: \\n\\n* **Lack of depth in analysis**: The essay primarily presents a list of positive and negative impacts of AI on the young generation without delving deeper into the underlying mechanisms and implications. For example, the section on AI's impact on education could explore the potential biases in AI-driven learning platforms or the effects of personalized learning on student autonomy. \\n\\n* **Overemphasis on benefits**: While the essay acknowledges the challenges posed by AI, it focuses more on the benefits and opportunities it presents. A more balanced approach would be to devote equal attention to both the positive and negative aspects of AI's impact on the young generation. \\n\\n* **Limited use of evidence**: The essay relies on general statements and hypothetical scenarios rather than empirical evidence or real-world examples to support its arguments. Incorporating concrete data, case studies, or expert opinions would strengthen the essay's claims and make them more convincing. \\n\\n* **Transitions and connections**: The essay jumps abruptly between topics, making it difficult to follow the author's line of reasoning. Using transitional phrases, connecting ideas, and signaling relationships between paragraphs would improve the essay's coherence and flow. \\n\\n* **Conclusion**: The final paragraph feels somewhat disconnected from the rest of the essay. A more effective conclusion would summarize the main points, reiterate the thesis, and provide a final thought or call to action that ties back to the essay's central argument. \\n\\n* **Style and tone**: The essay is well-written, but could benefit from a more formal and objective tone. Avoid using phrases like \",\n",
       " 'indidual_score': [8],\n",
       " 'avg_score': 8.0,\n",
       " 'overall_feedback': AIMessage(content=\"**Overall Evaluation:**\\nThe essay is well-structured and provides a solid overview of the impacts of Artificial Intelligence on the young generation. However, it falls short in terms of depth of analysis, balance of positive and negative aspects, use of evidence, transitions and connections, and conclusion. The essay also has some issues with tone and style.\\n\\n**Average Score out of 10:**\\nI would give the essay a score of 6.5 out of 10. Here's a breakdown of the score:\\n\\n* **Content (40%):** 6/10 (The essay covers a wide range of topics, but lacks depth in analysis and balance in presenting both positive and negative impacts.)\\n* **Organization and Structure (20%):** 7/10 (The essay is well-structured, but transitions and connections between paragraphs need improvement.)\\n* **Language and Style (20%):** 7/10 (The essay is well-written, but could benefit from a more formal and objective tone.)\\n* **Clarity and Coherence (20%):** 6/10 (The essay is clear, but some areas need improvement to enhance clarity and coherence.)\\n\\nTo reach a perfect score, the essay needs to address the areas mentioned in the feedback, such as providing deeper analysis, using more nuanced arguments, incorporating empirical evidence, and improving transitions and connections between paragraphs.\", additional_kwargs={}, response_metadata={'token_usage': {'completion_tokens': 277, 'prompt_tokens': 459, 'total_tokens': 736}, 'model_name': 'meta-llama/Llama-3.1-8B-Instruct', 'system_fingerprint': None, 'finish_reason': 'stop', 'logprobs': None}, id='run--3f843bcc-8e2a-48d2-bffc-5020227d79c1-0', usage_metadata={'input_tokens': 459, 'output_tokens': 277, 'total_tokens': 736})}"
      ]
     },
     "execution_count": 42,
     "metadata": {},
     "output_type": "execute_result"
    }
   ],
   "source": [
    "result"
   ]
  },
  {
   "cell_type": "code",
   "execution_count": 45,
   "id": "6b83f1e3",
   "metadata": {},
   "outputs": [
    {
     "data": {
      "text/plain": [
       "'Overall, the essay is well-structured and covers a wide range of impacts of AI on the young generation. However, there are some areas for improvement to reach a perfect score.'"
      ]
     },
     "execution_count": 45,
     "metadata": {},
     "output_type": "execute_result"
    }
   ],
   "source": [
    "result['language_feedback']"
   ]
  },
  {
   "cell_type": "code",
   "execution_count": null,
   "id": "31cb00e2",
   "metadata": {},
   "outputs": [],
   "source": []
  }
 ],
 "metadata": {
  "kernelspec": {
   "display_name": "myenv",
   "language": "python",
   "name": "python3"
  },
  "language_info": {
   "codemirror_mode": {
    "name": "ipython",
    "version": 3
   },
   "file_extension": ".py",
   "mimetype": "text/x-python",
   "name": "python",
   "nbconvert_exporter": "python",
   "pygments_lexer": "ipython3",
   "version": "3.13.5"
  }
 },
 "nbformat": 4,
 "nbformat_minor": 5
}
