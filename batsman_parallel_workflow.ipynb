{
 "cells": [
  {
   "cell_type": "code",
   "execution_count": 1,
   "id": "e38c5400",
   "metadata": {},
   "outputs": [],
   "source": [
    "from langgraph.graph import StateGraph, START, END \n",
    "from langchain_huggingface import HuggingFaceEndpoint, ChatHuggingFace\n",
    "from typing import TypedDict\n",
    "import os\n",
    "from dotenv import load_dotenv "
   ]
  },
  {
   "cell_type": "code",
   "execution_count": 2,
   "id": "d80960c1",
   "metadata": {},
   "outputs": [
    {
     "data": {
      "text/plain": [
       "True"
      ]
     },
     "execution_count": 2,
     "metadata": {},
     "output_type": "execute_result"
    }
   ],
   "source": [
    "load_dotenv(dotenv_path= r'C:\\Users\\shekh\\OneDrive\\Desktop\\LangGraph_tut\\myenv\\.env')"
   ]
  },
  {
   "cell_type": "code",
   "execution_count": 5,
   "id": "d250f158",
   "metadata": {},
   "outputs": [],
   "source": [
    "HF_TOKEN = os.getenv(\"HUGGINGFACEHUB_API_TOKEN\")\n"
   ]
  },
  {
   "cell_type": "code",
   "execution_count": 4,
   "id": "9d9b2906",
   "metadata": {},
   "outputs": [
    {
     "name": "stderr",
     "output_type": "stream",
     "text": [
      "c:\\Users\\shekh\\OneDrive\\Desktop\\LangGraph_tut\\myenv\\Lib\\site-packages\\tqdm\\auto.py:21: TqdmWarning: IProgress not found. Please update jupyter and ipywidgets. See https://ipywidgets.readthedocs.io/en/stable/user_install.html\n",
      "  from .autonotebook import tqdm as notebook_tqdm\n"
     ]
    }
   ],
   "source": [
    "llm = HuggingFaceEndpoint(\n",
    "    repo_id= 'mistralai/Mistral-7B-Instruct-v0.3',\n",
    "    task='text-generation',\n",
    "    huggingfacehub_api_token= HF_TOKEN\n",
    ")\n",
    "\n",
    "model = ChatHuggingFace(llm = llm)      "
   ]
  },
  {
   "cell_type": "code",
   "execution_count": 7,
   "id": "4de7bd82",
   "metadata": {},
   "outputs": [],
   "source": [
    "## defing the state\n",
    "class Batsman_state(TypedDict):\n",
    "    runs: int\n",
    "    balls: int\n",
    "    fours: int\n",
    "    sixes: int\n",
    "    strike_rate: float  \n",
    "    bbp: float  # balls per boundary\n",
    "    boundry_percentage: float\n",
    "    summary: str\n"
   ]
  },
  {
   "cell_type": "markdown",
   "id": "324f4fef",
   "metadata": {},
   "source": [
    "While working with the parallel workflows, we do not return the complete state as it may cause the confict that every node executing in parallel is performing write opreration on the state. That's why we return the partial state rather than returing the complete state."
   ]
  },
  {
   "cell_type": "code",
   "execution_count": 14,
   "id": "2c7b49b3",
   "metadata": {},
   "outputs": [],
   "source": [
    "def calculate_sr(state: Batsman_state) -> Batsman_state:\n",
    "    \"\"\"Calculate the strike rate of the batsman.\"\"\"\n",
    "    runs = state['runs']\n",
    "    balls = state['balls']\n",
    "    if balls == 0:\n",
    "        sr = 0.0\n",
    "    else:\n",
    "        sr = (runs / balls) * 100\n",
    "    return {'strike_rate': sr}"
   ]
  },
  {
   "cell_type": "code",
   "execution_count": 15,
   "id": "9ccc1d7d",
   "metadata": {},
   "outputs": [],
   "source": [
    "def calculate_bbp(state: Batsman_state) -> Batsman_state:\n",
    "    \"\"\"Calculate the balls per boundary of the batsman.\"\"\"\n",
    "    balls = state['balls']\n",
    "    fours = state['fours']\n",
    "    sixes = state['sixes']\n",
    "    total_boundaries = fours + sixes\n",
    "    if total_boundaries == 0:\n",
    "        bbp = float('inf')  # Infinite if no boundaries\n",
    "    else:\n",
    "        bbp = balls / total_boundaries\n",
    "    return {'bbp': bbp}"
   ]
  },
  {
   "cell_type": "code",
   "execution_count": 16,
   "id": "c8e91718",
   "metadata": {},
   "outputs": [],
   "source": [
    "def calculate_boundary_percentage(state: Batsman_state) -> Batsman_state:\n",
    "    \"\"\"Calculate the boundary percentage of the batsman.\"\"\"\n",
    "    runs = state['runs']\n",
    "    fours = state['fours']\n",
    "    sixes = state['sixes']\n",
    "    total_boundaries_runs = (fours * 4) + (sixes * 6)\n",
    "    if runs == 0:\n",
    "        bp = 0.0\n",
    "    else:\n",
    "        bp = (total_boundaries_runs / runs) * 100\n",
    "    return {'boundry_percentage': bp}"
   ]
  },
  {
   "cell_type": "code",
   "execution_count": 17,
   "id": "c1553ded",
   "metadata": {},
   "outputs": [],
   "source": [
    "def summary(state: Batsman_state) -> Batsman_state:\n",
    "    \"\"\"Generate a summary of the batsman's performance.\"\"\"\n",
    "    runs = state['runs']\n",
    "    balls = state['balls']\n",
    "    fours = state['fours']\n",
    "    sixes = state['sixes']\n",
    "    strike_rate = state['strike_rate']\n",
    "    bbp = state['bbp']\n",
    "    boundary_percentage = state['boundry_percentage']\n",
    "    \n",
    "    summary_text = (\n",
    "        f\"Batsman scored {runs} runs in {balls} balls with a strike rate of {strike_rate:.2f}. \"\n",
    "        f\"He hit {fours} fours and {sixes} sixes, resulting in a boundary percentage of {boundary_percentage:.2f}%. \"\n",
    "        f\"His balls per boundary is {bbp:.2f}.\"\n",
    "    )\n",
    "    \n",
    "    return {'summary': summary_text}"
   ]
  },
  {
   "cell_type": "code",
   "execution_count": 18,
   "id": "ddcfbb56",
   "metadata": {},
   "outputs": [
    {
     "data": {
      "image/png": "[encoded data removed]",
      "text/plain": [
       "<langgraph.graph.state.CompiledStateGraph object at 0x000001383D8C2E90>"
      ]
     },
     "execution_count": 18,
     "metadata": {},
     "output_type": "execute_result"
    }
   ],
   "source": [
    "graph = StateGraph(Batsman_state)\n",
    "\n",
    "graph.add_node('calculate_sr', calculate_sr)\n",
    "graph.add_node('calculate_bbp', calculate_bbp)\n",
    "graph.add_node('calculate_boundary_percentage', calculate_boundary_percentage)\n",
    "graph.add_node('summary', summary)\n",
    "\n",
    "graph.add_edge(START, 'calculate_sr')\n",
    "graph.add_edge(START, 'calculate_bbp')\n",
    "graph.add_edge(START, 'calculate_boundary_percentage')\n",
    "graph.add_edge('calculate_sr', 'summary')\n",
    "graph.add_edge('calculate_bbp', 'summary')  \n",
    "graph.add_edge('calculate_boundary_percentage', 'summary')\n",
    "graph.add_edge('summary', END)\n",
    "\n",
    "workflow = graph.compile()\n",
    "\n",
    "workflow"
   ]
  },
  {
   "cell_type": "code",
   "execution_count": 19,
   "id": "85e5721a",
   "metadata": {},
   "outputs": [],
   "source": [
    "initial_state = {\n",
    "    'runs': 100,\n",
    "    'balls': 50,\n",
    "    'fours': 10,\n",
    "    'sixes': 5,\n",
    "}\n",
    "\n",
    "final_state = workflow.invoke(initial_state)"
   ]
  },
  {
   "cell_type": "code",
   "execution_count": 21,
   "id": "9f5ebd0a",
   "metadata": {},
   "outputs": [
    {
     "name": "stdout",
     "output_type": "stream",
     "text": [
      "Batsman scored 100 runs in 50 balls with a strike rate of 200.00. He hit 10 fours and 5 sixes, resulting in a boundary percentage of 70.00%. His balls per boundary is 3.33.\n"
     ]
    }
   ],
   "source": [
    "print(final_state['summary'])"
   ]
  },
  {
   "cell_type": "code",
   "execution_count": null,
   "id": "116576d6",
   "metadata": {},
   "outputs": [],
   "source": []
  }
 ],
 "metadata": {
  "kernelspec": {
   "display_name": "myenv",
   "language": "python",
   "name": "python3"
  },
  "language_info": {
   "codemirror_mode": {
    "name": "ipython",
    "version": 3
   },
   "file_extension": ".py",
   "mimetype": "text/x-python",
   "name": "python",
   "nbconvert_exporter": "python",
   "pygments_lexer": "ipython3",
   "version": "3.13.5"
  }
 },
 "nbformat": 4,
 "nbformat_minor": 5
}
