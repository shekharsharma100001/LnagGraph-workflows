{
 "cells": [
  {
   "cell_type": "code",
   "execution_count": 1,
   "id": "2970fd80",
   "metadata": {},
   "outputs": [],
   "source": [
    "from langgraph.graph import StateGraph, START, END \n",
    "from langchain_huggingface import HuggingFaceEndpoint, ChatHuggingFace\n",
    "from typing import TypedDict\n",
    "import os\n",
    "from dotenv import load_dotenv "
   ]
  },
  {
   "cell_type": "code",
   "execution_count": 2,
   "id": "20e20984",
   "metadata": {},
   "outputs": [
    {
     "data": {
      "text/plain": [
       "True"
      ]
     },
     "execution_count": 2,
     "metadata": {},
     "output_type": "execute_result"
    }
   ],
   "source": [
    "load_dotenv(dotenv_path= r'C:\\Users\\shekh\\OneDrive\\Desktop\\LangGraph_tut\\myenv\\.env')"
   ]
  },
  {
   "cell_type": "code",
   "execution_count": 15,
   "id": "98a0e568",
   "metadata": {},
   "outputs": [],
   "source": [
    "HF_TOKEN = os.getenv(\"HUGGINGFACEHUB_API_TOKEN\")\n"
   ]
  },
  {
   "cell_type": "code",
   "execution_count": 4,
   "id": "ec20b209",
   "metadata": {},
   "outputs": [
    {
     "name": "stderr",
     "output_type": "stream",
     "text": [
      "c:\\Users\\shekh\\OneDrive\\Desktop\\LangGraph_tut\\myenv\\Lib\\site-packages\\tqdm\\auto.py:21: TqdmWarning: IProgress not found. Please update jupyter and ipywidgets. See https://ipywidgets.readthedocs.io/en/stable/user_install.html\n",
      "  from .autonotebook import tqdm as notebook_tqdm\n"
     ]
    }
   ],
   "source": [
    "llm = HuggingFaceEndpoint(\n",
    "    repo_id= 'mistralai/Mistral-7B-Instruct-v0.3',\n",
    "    task='text-generation',\n",
    "    huggingfacehub_api_token= HF_TOKEN\n",
    ")\n",
    "\n",
    "model = ChatHuggingFace(llm = llm)      "
   ]
  },
  {
   "cell_type": "code",
   "execution_count": 5,
   "id": "bd75594a",
   "metadata": {},
   "outputs": [],
   "source": [
    "## defing the state\n",
    "class Blog_state(TypedDict):\n",
    "    title: str\n",
    "    outline: str\n",
    "    content: str"
   ]
  },
  {
   "cell_type": "code",
   "execution_count": 6,
   "id": "63396b0b",
   "metadata": {},
   "outputs": [],
   "source": [
    "def generate_outline(state: Blog_state) -> Blog_state:\n",
    "    \"\"\"Generate a blog outline based on the title in the state.\"\"\"\n",
    "    title = state['title']\n",
    "    prompt = f\"Generate a detailed outline for a blog post titled: {title}\"\n",
    "    outline = model.invoke(prompt).content\n",
    "    state['outline'] = outline\n",
    "    return state"
   ]
  },
  {
   "cell_type": "code",
   "execution_count": 7,
   "id": "87d528f0",
   "metadata": {},
   "outputs": [],
   "source": [
    "def generate_blog(state: Blog_state) -> Blog_state:\n",
    "    \"\"\"Generate a blog post based on the outline in the state.\"\"\"\n",
    "    outline = state['outline']\n",
    "    title = state['title']\n",
    "    prompt = f\"Write a detailed blog post on the title: {title} based on the following outline: {outline}\"\n",
    "    content = model.invoke(prompt).content\n",
    "    state['content'] = content\n",
    "    return state"
   ]
  },
  {
   "cell_type": "code",
   "execution_count": 9,
   "id": "e6f566f2",
   "metadata": {},
   "outputs": [
    {
     "data": {
      "image/png": "[encoded data removed]",
      "text/plain": [
       "<langgraph.graph.state.CompiledStateGraph object at 0x000001FDFCF82850>"
      ]
     },
     "execution_count": 9,
     "metadata": {},
     "output_type": "execute_result"
    }
   ],
   "source": [
    "graph = StateGraph(Blog_state)\n",
    "\n",
    "graph.add_node('generate_outline', generate_outline)\n",
    "graph.add_node('generate_blog', generate_blog)\n",
    "\n",
    "graph.add_edge(START, 'generate_outline')\n",
    "graph.add_edge('generate_outline', 'generate_blog')\n",
    "graph.add_edge('generate_blog', END)\n",
    "\n",
    "## compile the graph\n",
    "workflow = graph.compile()\n",
    "workflow"
   ]
  },
  {
   "cell_type": "code",
   "execution_count": 10,
   "id": "fd4c3316",
   "metadata": {},
   "outputs": [
    {
     "name": "stdout",
     "output_type": "stream",
     "text": [
      "{'title': 'The title is: The Future of AI in Everyday Life', 'outline': 'Title: The Future of AI in Everyday Life\\n\\nI. Introduction\\n   A. Brief overview of the current state of AI\\n   B. Explanation of the focus on everyday life\\n\\nII. The Impact of AI Today\\n   A. Examples of AI in daily life (smartphones, voice assistants, etc.)\\n   B. Discussion on how AI improves efficiency and convenience\\n   C. The limitations and challenges of current AI technology\\n\\nIII. The Evolution of AI\\n   A. Explanation of the advancements in AI research\\n   B. Discussion on the trends shaping the future of AI (machine learning, deep learning, neural networks, etc.)\\n\\nIV. The Potential Future of AI in Everyday Life\\n   A. Predictions for how AI will integrate into daily life (smart homes, healthcare, education, transportation, etc.)\\n   B. Analysis of the potential benefits and drawbacks\\n   C. Discussion on ethical considerations (data privacy, bias, job displacement, etc.)\\n\\nV. Conclusion\\n   A. Recap of the potential future of AI in everyday life\\n   B. Closing thoughts on the importance of furthering AI research\\n   C. Call to action for readers to stay informed and be part of the conversation\\n\\nVI. References\\n   (Add any relevant sources for further reading)\\n', 'content': 'Title: The Future of AI in Everyday Life\\n\\nI. Introduction\\n   A. Brief overview of the current state of AI\\n      The current state of AI is rapidly evolving, with advancements being made daily. It is no longer relegated to the realm of science fiction, but has become an integral part of our daily lives.\\n   B. Explanation of the focus on everyday life\\n      In this discussion, we will focus on the future of AI as it pertains to our everyday lives.\\n\\nII. The Impact of AI Today\\n   A. Examples of AI in daily life (smartphones, voice assistants, etc.)\\n      AI is all around us in our daily lives. From the smartphone in our pocket to the voice assistant in our home, AI has become a common tool.\\n   B. Discussion on how AI improves efficiency and convenience\\n      AI technology has revolutionized efficiency and convenience in various ways. For example, smartphones use AI to suggest apps or articles that the user may find interesting, while voice assistants can control smart home devices or answer queries on the fly.\\n   C. The limitations and challenges of current AI technology\\n      Despite its benefits, current AI technology is not without its limitations. AI systems often struggle with tasks that require common sense or nuanced understanding, and there are also concerns about data privacy and the potential for bias in AI decision-making.\\n\\nIII. The Evolution of AI\\n   A. Explanation of the advancements in AI research\\n      Advancements in AI research are being made at an astonishing pace. Machine learning, deep learning, and neural networks have all made significant strides in recent years, opening up new possibilities for AI to be integrated even further into our lives.\\n   B. Discussion on the trends shaping the future of AI (machine learning, deep learning, neural networks, etc.)\\n      Machine learning, deep learning, and neural networks are just a few examples of the trends shaping the future of AI. These technologies are poised to revolutionize industries like healthcare, education, transportation, and more.\\n\\nIV. The Potential Future of AI in Everyday Life\\n   A. Predictions for how AI will integrate into daily life (smart homes, healthcare, education, transportation, etc.)\\n      In the near future, AI is expected to play a greater role in our daily lives. For example, smart homes will become more commonplace as AI is used to automate tasks like lighting, temperature control, and home security.\\n   B. Analysis of the potential benefits and drawbacks\\n      The potential benefits of AI in our everyday lives are vast. It could lead to increased efficiency, convenience, and even safety. However, there are also concerns about privacy, the potential for bias, job displacement, and the ethical implications of such advanced technology.\\n   C. Discussion on ethical considerations (data privacy, bias, job displacement, etc.)\\n      As AI becomes more integrated into our daily lives, it is crucial to consider the ethical implications. For example, how will we protect data privacy, and ensure that AI systems do not reinforce existing biases or displace human jobs?\\n\\nV. Conclusion\\n   A. Recap of the potential future of AI in everyday life\\n      The potential future of AI in everyday life is exciting, with possibilities ranging from smart homes to revolutionizing healthcare and education.\\n   B. Closing thoughts on the importance of furthering AI research\\n      It is important to continue furthering AI research and to have an open and frank discussion about the potential benefits and drawbacks of such technology.\\n   C. Call to action for readers to stay informed and be part of the conversation\\n      I encourage readers to stay informed about advancements in AI and to be part of the conversation as we navigate this rapidly evolving field.\\n\\nVI. References\\n   (Add any relevant sources for further reading)\\n   - \"What is Artificial Intelligence (AI) and How Does It Work?\" (https://www.techopedia.com/definition/6409/artificial-intelligence-ai)\\n   - \"11 AI Trends for 2022\" (https://www.analyticsinsight.net/11-ai-trends-for-2022/)\\n   - \"The Ethics of Artificial Intelligence\" (https://www.mcec.gov.au/resources/the-ethics-of-artificial-intelligence)\\n</|im_end|>'}\n"
     ]
    }
   ],
   "source": [
    "initial_state = {'title': \"The title is: The Future of AI in Everyday Life\"}\n",
    "final_state = workflow.invoke(initial_state)\n",
    "\n",
    "print(final_state)"
   ]
  },
  {
   "cell_type": "code",
   "execution_count": 11,
   "id": "0f1f29fe",
   "metadata": {},
   "outputs": [
    {
     "name": "stdout",
     "output_type": "stream",
     "text": [
      "Title: The Future of AI in Everyday Life\n",
      "\n",
      "I. Introduction\n",
      "   A. Brief overview of the current state of AI\n",
      "   B. Explanation of the focus on everyday life\n",
      "\n",
      "II. The Impact of AI Today\n",
      "   A. Examples of AI in daily life (smartphones, voice assistants, etc.)\n",
      "   B. Discussion on how AI improves efficiency and convenience\n",
      "   C. The limitations and challenges of current AI technology\n",
      "\n",
      "III. The Evolution of AI\n",
      "   A. Explanation of the advancements in AI research\n",
      "   B. Discussion on the trends shaping the future of AI (machine learning, deep learning, neural networks, etc.)\n",
      "\n",
      "IV. The Potential Future of AI in Everyday Life\n",
      "   A. Predictions for how AI will integrate into daily life (smart homes, healthcare, education, transportation, etc.)\n",
      "   B. Analysis of the potential benefits and drawbacks\n",
      "   C. Discussion on ethical considerations (data privacy, bias, job displacement, etc.)\n",
      "\n",
      "V. Conclusion\n",
      "   A. Recap of the potential future of AI in everyday life\n",
      "   B. Closing thoughts on the importance of furthering AI research\n",
      "   C. Call to action for readers to stay informed and be part of the conversation\n",
      "\n",
      "VI. References\n",
      "   (Add any relevant sources for further reading)\n",
      "\n"
     ]
    }
   ],
   "source": [
    "print(final_state['outline'])"
   ]
  },
  {
   "cell_type": "code",
   "execution_count": 13,
   "id": "a2d931a5",
   "metadata": {},
   "outputs": [
    {
     "name": "stdout",
     "output_type": "stream",
     "text": [
      "Title: The Future of AI in Everyday Life\n",
      "\n",
      "I. Introduction\n",
      "   A. Brief overview of the current state of AI\n",
      "      The current state of AI is rapidly evolving, with advancements being made daily. It is no longer relegated to the realm of science fiction, but has become an integral part of our daily lives.\n",
      "   B. Explanation of the focus on everyday life\n",
      "      In this discussion, we will focus on the future of AI as it pertains to our everyday lives.\n",
      "\n",
      "II. The Impact of AI Today\n",
      "   A. Examples of AI in daily life (smartphones, voice assistants, etc.)\n",
      "      AI is all around us in our daily lives. From the smartphone in our pocket to the voice assistant in our home, AI has become a common tool.\n",
      "   B. Discussion on how AI improves efficiency and convenience\n",
      "      AI technology has revolutionized efficiency and convenience in various ways. For example, smartphones use AI to suggest apps or articles that the user may find interesting, while voice assistants can control smart home devices or answer queries on the fly.\n",
      "   C. The limitations and challenges of current AI technology\n",
      "      Despite its benefits, current AI technology is not without its limitations. AI systems often struggle with tasks that require common sense or nuanced understanding, and there are also concerns about data privacy and the potential for bias in AI decision-making.\n",
      "\n",
      "III. The Evolution of AI\n",
      "   A. Explanation of the advancements in AI research\n",
      "      Advancements in AI research are being made at an astonishing pace. Machine learning, deep learning, and neural networks have all made significant strides in recent years, opening up new possibilities for AI to be integrated even further into our lives.\n",
      "   B. Discussion on the trends shaping the future of AI (machine learning, deep learning, neural networks, etc.)\n",
      "      Machine learning, deep learning, and neural networks are just a few examples of the trends shaping the future of AI. These technologies are poised to revolutionize industries like healthcare, education, transportation, and more.\n",
      "\n",
      "IV. The Potential Future of AI in Everyday Life\n",
      "   A. Predictions for how AI will integrate into daily life (smart homes, healthcare, education, transportation, etc.)\n",
      "      In the near future, AI is expected to play a greater role in our daily lives. For example, smart homes will become more commonplace as AI is used to automate tasks like lighting, temperature control, and home security.\n",
      "   B. Analysis of the potential benefits and drawbacks\n",
      "      The potential benefits of AI in our everyday lives are vast. It could lead to increased efficiency, convenience, and even safety. However, there are also concerns about privacy, the potential for bias, job displacement, and the ethical implications of such advanced technology.\n",
      "   C. Discussion on ethical considerations (data privacy, bias, job displacement, etc.)\n",
      "      As AI becomes more integrated into our daily lives, it is crucial to consider the ethical implications. For example, how will we protect data privacy, and ensure that AI systems do not reinforce existing biases or displace human jobs?\n",
      "\n",
      "V. Conclusion\n",
      "   A. Recap of the potential future of AI in everyday life\n",
      "      The potential future of AI in everyday life is exciting, with possibilities ranging from smart homes to revolutionizing healthcare and education.\n",
      "   B. Closing thoughts on the importance of furthering AI research\n",
      "      It is important to continue furthering AI research and to have an open and frank discussion about the potential benefits and drawbacks of such technology.\n",
      "   C. Call to action for readers to stay informed and be part of the conversation\n",
      "      I encourage readers to stay informed about advancements in AI and to be part of the conversation as we navigate this rapidly evolving field.\n",
      "\n",
      "VI. References\n",
      "   (Add any relevant sources for further reading)\n",
      "   - \"What is Artificial Intelligence (AI) and How Does It Work?\" (https://www.techopedia.com/definition/6409/artificial-intelligence-ai)\n",
      "   - \"11 AI Trends for 2022\" (https://www.analyticsinsight.net/11-ai-trends-for-2022/)\n",
      "   - \"The Ethics of Artificial Intelligence\" (https://www.mcec.gov.au/resources/the-ethics-of-artificial-intelligence)\n",
      "</|im_end|>\n"
     ]
    }
   ],
   "source": [
    "print(final_state['content'])"
   ]
  },
  {
   "cell_type": "code",
   "execution_count": null,
   "id": "ebc0c804",
   "metadata": {},
   "outputs": [],
   "source": []
  }
 ],
 "metadata": {
  "kernelspec": {
   "display_name": "myenv",
   "language": "python",
   "name": "python3"
  },
  "language_info": {
   "codemirror_mode": {
    "name": "ipython",
    "version": 3
   },
   "file_extension": ".py",
   "mimetype": "text/x-python",
   "name": "python",
   "nbconvert_exporter": "python",
   "pygments_lexer": "ipython3",
   "version": "3.13.5"
  }
 },
 "nbformat": 4,
 "nbformat_minor": 5
}
