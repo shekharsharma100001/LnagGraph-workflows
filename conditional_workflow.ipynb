{
 "cells": [
  {
   "cell_type": "code",
   "execution_count": 28,
   "id": "b3099aaa",
   "metadata": {},
   "outputs": [],
   "source": [
    "from langgraph.graph import StateGraph, START, END\n",
    "from typing import TypedDict, Literal"
   ]
  },
  {
   "cell_type": "code",
   "execution_count": 29,
   "id": "9f7aec97",
   "metadata": {},
   "outputs": [],
   "source": [
    "class QuadState(TypedDict):\n",
    "    a: int\n",
    "    b: int\n",
    "    c: int\n",
    "    equation: str\n",
    "    discriminant: float\n",
    "    result: str"
   ]
  },
  {
   "cell_type": "code",
   "execution_count": 30,
   "id": "4637a060",
   "metadata": {},
   "outputs": [],
   "source": [
    "def show_equation(state: QuadState):\n",
    "    equation = f'{state[\"a\"]}x2 {state[\"b\"]}x {state[\"c\"]}'\n",
    "    return {'equation': equation}\n",
    "\n",
    "def calc_discriminant(state: QuadState):\n",
    "    discriminant = state[\"b\"]**2 - (4*state[\"a\"]*state[\"c\"])\n",
    "\n",
    "    return {'discriminant': discriminant}"
   ]
  },
  {
   "cell_type": "code",
   "execution_count": 31,
   "id": "5d8027e1",
   "metadata": {},
   "outputs": [],
   "source": [
    "def real_roots(state: QuadState):\n",
    "    root1 = (-state[\"b\"] + state[\"discriminant\"]**0.5) / (2*state[\"a\"])\n",
    "    root2 = (-state[\"b\"] - state[\"discriminant\"]**0.5) / (2*state[\"a\"])\n",
    "    return {'result': f'Real and Equal Roots: {root1}, {root2}'}\n",
    "\n",
    "\n",
    "def repeated_roots(state: QuadState):\n",
    "    root = -state[\"b\"] / (2*state[\"a\"])\n",
    "    return {'result': f'Repeated Roots: {root}'}\n",
    "\n",
    "\n",
    "def complex_roots(state: QuadState):\n",
    "    result = 'No real roots'\n",
    "    return {\"result\": result}\n",
    "\n",
    "def check_condition(state: QuadState) -> Literal['real_roots', 'repeated_roots', 'complex_roots']:\n",
    "    if state['discriminant'] > 0:\n",
    "        return 'real_roots'\n",
    "    elif state['discriminant'] == 0:\n",
    "        return 'repeated_roots'\n",
    "    else:\n",
    "        return 'complex_roots'\n"
   ]
  },
  {
   "cell_type": "code",
   "execution_count": 32,
   "id": "d96c625b",
   "metadata": {},
   "outputs": [],
   "source": [
    "graph = StateGraph(QuadState)\n",
    "\n",
    "graph.add_node('show_equation', show_equation)\n",
    "graph.add_node('calc_discriminant', calc_discriminant)\n",
    "graph.add_node('real_roots', real_roots)\n",
    "graph.add_node('repeated_roots', repeated_roots)\n",
    "graph.add_node('complex_roots', complex_roots)\n",
    "\n",
    "graph.add_edge(START, 'show_equation')\n",
    "graph.add_edge('show_equation', 'calc_discriminant')\n",
    "graph.add_conditional_edges('calc_discriminant', check_condition)\n",
    "graph.add_edge('real_roots', END)\n",
    "graph.add_edge('repeated_roots', END)\n",
    "graph.add_edge('complex_roots', END)\n",
    "\n",
    "workflow = graph.compile()\n"
   ]
  },
  {
   "cell_type": "code",
   "execution_count": 33,
   "id": "061dc937",
   "metadata": {},
   "outputs": [
    {
     "data": {
      "image/png": "[encoded data removed]",
      "text/plain": [
       "<langgraph.graph.state.CompiledStateGraph object at 0x000001F327F1E990>"
      ]
     },
     "execution_count": 33,
     "metadata": {},
     "output_type": "execute_result"
    }
   ],
   "source": [
    "workflow"
   ]
  },
  {
   "cell_type": "code",
   "execution_count": 34,
   "id": "90b91738",
   "metadata": {},
   "outputs": [],
   "source": [
    "initial_state = {\n",
    "    'a': 4,\n",
    "    'b': -5,\n",
    "    'c': -4\n",
    "    \n",
    "}\n",
    "\n",
    "final_state = workflow.invoke(initial_state)"
   ]
  },
  {
   "cell_type": "code",
   "execution_count": 35,
   "id": "bfc9af9c",
   "metadata": {},
   "outputs": [
    {
     "data": {
      "text/plain": [
       "{'a': 4,\n",
       " 'b': -5,\n",
       " 'c': -4,\n",
       " 'equation': '4x2 -5x -4',\n",
       " 'discriminant': 89,\n",
       " 'result': 'Real and Equal Roots: 1.8042476415070754, -0.5542476415070754'}"
      ]
     },
     "execution_count": 35,
     "metadata": {},
     "output_type": "execute_result"
    }
   ],
   "source": [
    "final_state"
   ]
  },
  {
   "cell_type": "code",
   "execution_count": null,
   "id": "eaeb3cbd",
   "metadata": {},
   "outputs": [],
   "source": []
  },
  {
   "cell_type": "code",
   "execution_count": null,
   "id": "23621433",
   "metadata": {},
   "outputs": [],
   "source": []
  },
  {
   "cell_type": "code",
   "execution_count": null,
   "id": "a9e5eae4",
   "metadata": {},
   "outputs": [],
   "source": []
  }
 ],
 "metadata": {
  "kernelspec": {
   "display_name": "myenv",
   "language": "python",
   "name": "python3"
  },
  "language_info": {
   "codemirror_mode": {
    "name": "ipython",
    "version": 3
   },
   "file_extension": ".py",
   "mimetype": "text/x-python",
   "name": "python",
   "nbconvert_exporter": "python",
   "pygments_lexer": "ipython3",
   "version": "3.13.5"
  }
 },
 "nbformat": 4,
 "nbformat_minor": 5
}
